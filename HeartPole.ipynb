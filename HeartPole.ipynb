{
 "cells": [
  {
   "cell_type": "markdown",
   "metadata": {},
   "source": [
    "# Writing a custom OpenAI Gym environment\n",
    "\n",
    "*Prescriptum:* this is a tutorial on writing a custom OpenAI Gym environment that dedicates an unhealthy amount of text to selling you on the idea that you need a custom OpenAI Gym environment.\n",
    "If you don't need convincing, [click here](#start). We assume decent knowledge of Python and next to no knowledge of Reinforcement Learning.\n",
    "\n",
    "Reinforcement Learning arises in contexts where an agent (a robot or a software system):\n",
    "- observes some data about its environment\n",
    "- takes action in this environment\n",
    "- receives rewards that indicate how  successful its actions have been\n",
    "\n",
    "Say you have [200 million subscribers who want to receive movie recommendations](https://medium.com/inside-machine-learning/recommendation-systems-using-reinforcement-learning-de6379eecfde) and if the recommendations are good, they reward you with thumbs up, watch time and renewing their subscription[<sup>2</sup>](#fn2). Or you need [a program that decides which advertisement to show to the user so that they click](https://arxiv.org/abs/1909.03602). Or you have a spare [walking robot has to control its joints to avoid the negative reward for falling over](https://arxiv.org/pdf/1812.11103.pdf). In such an environment you can forgo programming/developing a strategy for your system and instead use on of the [industry standard reinforcement learning algorithms](http://www.incompleteideas.net/book/the-book-2nd.html) to learn a good strategy by trial and error.\n",
    "\n",
    "These algorithms are very accessible - there are software packages available like [keras-rl](https://github.com/keras-rl/keras-rl) and, of course, [cibi](https://github.com/vadim0x60/cibi)[<sup>1</sup>](#fn1) - all that's left is to plug your problem into their code and watch the neural network slooooowly become an expert in solving your problem. These packages, however, aren't written for your marketing software. They are written for this:\n",
    "\n",
    "<table>\n",
    "    <tr>\n",
    "        <td><img src=\"HeartPole-stuff/MountainCar.gif\"></td>\n",
    "        <td><img src=\"HeartPole-stuff/FetchPickAndPlace.gif\"></td>\n",
    "    </tr>\n",
    "    <tr>\n",
    "        <td><a href=\"https://gym.openai.com/envs/MountainCarContinuous-v0/\">MountainCarContinuous-v0</a></td>\n",
    "        <td><a href=\"https://gym.openai.com/envs/FetchPickAndPlace-v0/\">FetchPickAndPlace-v0</a></td>\n",
    "    </tr>\n",
    "</table>\n",
    "\n",
    "The images above are visualizations of environments from [OpenAI Gym](https://github.com/openai/gym) - a python library used as defacto standard for describing reinforcement learning tasks. In addition to [an array of environments to play with](https://gym.openai.com/envs/), OpenAI Gym provides us with tools to streamline development of new environments, promising us a future [so bright you'll have to wear shades](https://www.youtube.com/watch?v=8qrriKcwvlY) where there's no need to solve problems. Just define the problem as an OpenAI environment - and *keras-rl* will do the solving."
   ]
  },
  {
   "cell_type": "markdown",
   "metadata": {},
   "source": [
    "<span id=\"fn1\"><sup>1</sup>The author of this tutorial is the author of [cibi](https://github.com/vadim0x60/cibi), but will pinky swear that this recommendation is unbiased if necessary</span><br>\n",
    "<span id=\"fn2\"><sup>2</sup>If you do, not sure why you are taking business advice from a free tutorial, but you're welcome</span>"
   ]
  },
  {
   "cell_type": "markdown",
   "metadata": {},
   "source": [
    "## OpenAI Gym\n",
    "<a id='start'></a>\n",
    "\n",
    "\n",
    "But first, let us examine what a Gym environment looks like:"
   ]
  },
  {
   "cell_type": "code",
   "execution_count": 1,
   "metadata": {},
   "outputs": [
    {
     "name": "stdout",
     "output_type": "stream",
     "text": [
      "Requirement already satisfied: gym in /home/vadim0x60/.pyenv/versions/3.7.4/lib/python3.7/site-packages (0.17.2)\n",
      "Requirement already satisfied: scipy in /home/vadim0x60/.pyenv/versions/3.7.4/lib/python3.7/site-packages (from gym) (1.3.1)\n",
      "Requirement already satisfied: pyglet<=1.5.0,>=1.4.0 in /home/vadim0x60/.pyenv/versions/3.7.4/lib/python3.7/site-packages (from gym) (1.5.0)\n",
      "Requirement already satisfied: cloudpickle<1.4.0,>=1.2.0 in /home/vadim0x60/.pyenv/versions/3.7.4/lib/python3.7/site-packages (from gym) (1.2.2)\n",
      "Requirement already satisfied: numpy>=1.10.4 in /home/vadim0x60/.pyenv/versions/3.7.4/lib/python3.7/site-packages (from gym) (1.19.0)\n",
      "Requirement already satisfied: future in /home/vadim0x60/.pyenv/versions/3.7.4/lib/python3.7/site-packages (from pyglet<=1.5.0,>=1.4.0->gym) (0.18.0)\n",
      "\u001b[33mYou are using pip version 19.0.3, however version 20.2b1 is available.\n",
      "You should consider upgrading via the 'pip install --upgrade pip' command.\u001b[0m\n"
     ]
    }
   ],
   "source": [
    "!pip install gym"
   ]
  },
  {
   "cell_type": "code",
   "execution_count": 2,
   "metadata": {},
   "outputs": [],
   "source": [
    "import gym\n",
    "\n",
    "mountaincar = gym.make('MountainCarContinuous-v0') "
   ]
  },
  {
   "cell_type": "markdown",
   "metadata": {},
   "source": [
    "Gym environments follow the framework known as **Partially Observable Markov Decision Process** (source for [science historians](https://lup.lub.lu.se/search/publication/8867084), source [for dummies](http://cs.brown.edu/research/ai/pomdp/tutorial/)[<sup>3</sup>](#fn3)):"
   ]
  },
  {
   "cell_type": "code",
   "execution_count": 3,
   "metadata": {},
   "outputs": [
    {
     "name": "stdout",
     "output_type": "stream",
     "text": [
      "location -0.47438552209973656, speed 0.0\n",
      "location -0.47551295454708387, speed -0.0011274324473473187\n",
      "location -0.47666006639441033, speed -0.001147111847326445\n",
      "location -0.47692576048710833, speed -0.00026569409269798397\n",
      "location -0.4760578255225017, speed 0.0008679349646066301\n",
      "location -0.47447282266970237, speed 0.0015850028527993124\n"
     ]
    }
   ],
   "source": [
    "observation = mountaincar.reset()\n",
    "location, speed = observation\n",
    "print(f'location {location}, speed {speed}')\n",
    "\n",
    "for step in range(5):\n",
    "    observation, reward, done, _ = mountaincar.step(mountaincar.action_space.sample())\n",
    "    location, speed = observation\n",
    "    print(f'location {location}, speed {speed}')"
   ]
  },
  {
   "cell_type": "markdown",
   "metadata": {},
   "source": [
    "The code above:\n",
    "1. Initializes the MountainCar environment with `mountaincar.reset()`\n",
    "2. Outputs the observed information (location and speed of the car)\n",
    "3. Picks a random action form the space of actions possible in this environment - *action space* - with `mountaincar.action_space.sample()`\n",
    "4. Sends this decision to the environment with `mountaincar.step()` \n",
    "5. Outputs the newly observed information\n",
    "6. Repeats steps 3-5 5 times"
   ]
  },
  {
   "cell_type": "markdown",
   "metadata": {},
   "source": [
    "Every environment has to follow this pattern. The environments only differ in their\n",
    "1. Action space\n",
    "2. Observation space\n",
    "3. Implementation of `env.step()` function\n",
    "\n",
    "One can explore the environment action and observation spaces as follows:"
   ]
  },
  {
   "cell_type": "code",
   "execution_count": 4,
   "metadata": {},
   "outputs": [
    {
     "data": {
      "text/plain": [
       "Box(1,)"
      ]
     },
     "execution_count": 4,
     "metadata": {},
     "output_type": "execute_result"
    }
   ],
   "source": [
    "mountaincar.action_space"
   ]
  },
  {
   "cell_type": "code",
   "execution_count": 5,
   "metadata": {},
   "outputs": [
    {
     "data": {
      "text/plain": [
       "array([-1.], dtype=float32)"
      ]
     },
     "execution_count": 5,
     "metadata": {},
     "output_type": "execute_result"
    }
   ],
   "source": [
    "mountaincar.action_space.low"
   ]
  },
  {
   "cell_type": "code",
   "execution_count": 6,
   "metadata": {},
   "outputs": [
    {
     "data": {
      "text/plain": [
       "array([1.], dtype=float32)"
      ]
     },
     "execution_count": 6,
     "metadata": {},
     "output_type": "execute_result"
    }
   ],
   "source": [
    "mountaincar.action_space.high"
   ]
  },
  {
   "cell_type": "code",
   "execution_count": 7,
   "metadata": {},
   "outputs": [
    {
     "data": {
      "text/plain": [
       "array([0.50977325], dtype=float32)"
      ]
     },
     "execution_count": 7,
     "metadata": {},
     "output_type": "execute_result"
    }
   ],
   "source": [
    "mountaincar.action_space.sample()"
   ]
  },
  {
   "cell_type": "code",
   "execution_count": 8,
   "metadata": {},
   "outputs": [
    {
     "data": {
      "text/plain": [
       "Box(2,)"
      ]
     },
     "execution_count": 8,
     "metadata": {},
     "output_type": "execute_result"
    }
   ],
   "source": [
    "mountaincar.observation_space"
   ]
  },
  {
   "cell_type": "code",
   "execution_count": 9,
   "metadata": {},
   "outputs": [
    {
     "data": {
      "text/plain": [
       "array([ 0.52091765, -0.04914642], dtype=float32)"
      ]
     },
     "execution_count": 9,
     "metadata": {},
     "output_type": "execute_result"
    }
   ],
   "source": [
    "mountaincar.observation_space.sample()"
   ]
  },
  {
   "cell_type": "code",
   "execution_count": 10,
   "metadata": {},
   "outputs": [
    {
     "name": "stdout",
     "output_type": "stream",
     "text": [
      "Car location can range from -1.2000000476837158 to 0.6000000238418579\n",
      "Car speed can range from -0.07000000029802322 to 0.07000000029802322\n"
     ]
    }
   ],
   "source": [
    "location_low, speed_low = mountaincar.observation_space.low\n",
    "location_high, speed_high = mountaincar.observation_space.high\n",
    "\n",
    "print(f'Car location can range from {location_low} to {location_high}')\n",
    "print(f'Car speed can range from {speed_low} to {speed_high}')"
   ]
  },
  {
   "cell_type": "markdown",
   "metadata": {},
   "source": [
    "Notice how this space is just a pair (a numpy array of shape `(2,)` to be precise) of numbers with no indication what they mean. You can find out that the first number is car location and the second number is car speed is taken from the environment's [source code](https://gym.openai.com/envs/MountainCarContinuous-v0) or from the original [PhD thesis describing it](https://www.cl.cam.ac.uk/techreports/UCAM-CL-TR-209.pdf). But the environment abstracts this away as an unimportant detail. That's because for a reinforcement learning algorithm it is an unimportant detail - it will learn how to interpret these numbers on its own oevr the course of training"
   ]
  },
  {
   "cell_type": "markdown",
   "metadata": {},
   "source": [
    "In total, there are 4 types of action/observation spaces ([the docs mention just the first two](https://gym.openai.com/docs/#spaces), but [the code never lies](https://github.com/openai/gym/tree/master/gym/spaces)):\n",
    "1. `Discrete(n)` - the action/observation is one of integer numbers $0,1,\\dots,n-1$  \n",
    "2. `Box(lower_bounds, upper_bounds)` where `lower_bounds` and `upper_bounds` are tensors of the same `shape`. The action/observation is a tensor (a numpy array) of shape `shape` and its components are real numbers in the `[lower_bound;upper_bound]` interval\n",
    "3. `MultiBinary(n)` - the action/observation is an array of length `n` where each component is 0 or 1\n",
    "4. `MultiDiscrete(nvec)` - the action/observation is an array of length `len(nvec)` and its k-th component is one of integer numbers $0,1,\\dots,\\text{nvec}_k-1$  "
   ]
  },
  {
   "cell_type": "markdown",
   "metadata": {},
   "source": [
    "<span id=\"fn3\"><sup>3</sup>The author of this tutorial tends to identify with the latter category</span>"
   ]
  },
  {
   "cell_type": "markdown",
   "metadata": {},
   "source": [
    "## Meet HeartPole\n",
    "\n",
    "**Disclaimer** the healthcare scenario presented here is not in any way based on anyone's real life experience"
   ]
  },
  {
   "cell_type": "markdown",
   "metadata": {},
   "source": [
    "The go to environment for first experiments in Reinforcement Learning is [CartPole](https://gym.openai.com/envs/CartPole-v0/):"
   ]
  },
  {
   "cell_type": "markdown",
   "metadata": {},
   "source": [
    "<img src=\"HeartPole-stuff/CartPole.gif\">"
   ]
  },
  {
   "cell_type": "markdown",
   "metadata": {},
   "source": [
    "The agent observes the position of the black cart and its velocity, as well as the angle of the pole and its angular velocity. The agent has to push the cart right or left so that the Pole doesn't fall.\n",
    "\n",
    "But what if instead of balancing a wooden stick on a cart you were balancing your health and your creative productivity?\n",
    "\n",
    "Consider the following facts (or, rather, 7 facts and 1 fiction):"
   ]
  },
  {
   "cell_type": "markdown",
   "metadata": {},
   "source": [
    "**Fact 0**. Your productivity and health depends on factors like \n",
    "- being sleepy v.s. alert\n",
    "- blood pressure\n",
    "- whether you are drunk\n",
    "- how long ago has you last slept"
   ]
  },
  {
   "cell_type": "code",
   "execution_count": 11,
   "metadata": {},
   "outputs": [],
   "source": [
    "state = {\n",
    "    'alertness': 0,\n",
    "    'hypertension': 0,\n",
    "    'intoxication': 0,\n",
    "    'time_since_slept': 10,\n",
    "    'time_elapsed': 0,\n",
    "    'work_done': 0\n",
    "}"
   ]
  },
  {
   "cell_type": "markdown",
   "metadata": {},
   "source": [
    "**Fact 1.** After a good night's sleep you wake up quite alert (but with some random variance)."
   ]
  },
  {
   "cell_type": "code",
   "execution_count": 12,
   "metadata": {},
   "outputs": [],
   "source": [
    "import numpy as np\n",
    "\n",
    "def wakeup(state):\n",
    "    state['alertness'] = np.random.uniform(0.7, 1.3)\n",
    "    state['time_since_slept'] = 0"
   ]
  },
  {
   "cell_type": "code",
   "execution_count": 13,
   "metadata": {},
   "outputs": [
    {
     "data": {
      "text/plain": [
       "{'alertness': 1.208175832876659,\n",
       " 'hypertension': 0,\n",
       " 'intoxication': 0,\n",
       " 'time_since_slept': 0,\n",
       " 'time_elapsed': 0,\n",
       " 'work_done': 0}"
      ]
     },
     "execution_count": 13,
     "metadata": {},
     "output_type": "execute_result"
    }
   ],
   "source": [
    "wakeup(state)\n",
    "state"
   ]
  },
  {
   "cell_type": "markdown",
   "metadata": {},
   "source": [
    "**Fact 2.**  Caffeine increases your alertness level and blood pressure"
   ]
  },
  {
   "cell_type": "code",
   "execution_count": 14,
   "metadata": {},
   "outputs": [],
   "source": [
    "def drink_coffee(state):\n",
    "    state['alertness'] += np.random.uniform(0, 1)\n",
    "    state['hypertension'] += np.random.uniform(0, 0.3)"
   ]
  },
  {
   "cell_type": "code",
   "execution_count": 15,
   "metadata": {},
   "outputs": [
    {
     "data": {
      "text/plain": [
       "{'alertness': 1.4731328910908106,\n",
       " 'hypertension': 0.09664091202179799,\n",
       " 'intoxication': 0,\n",
       " 'time_since_slept': 0,\n",
       " 'time_elapsed': 0,\n",
       " 'work_done': 0}"
      ]
     },
     "execution_count": 15,
     "metadata": {},
     "output_type": "execute_result"
    }
   ],
   "source": [
    "drink_coffee(state)\n",
    "state"
   ]
  },
  {
   "cell_type": "markdown",
   "metadata": {},
   "source": [
    "**Fact 3.** Alcohol decreases your alertness level, increases intoxication and blood pressure"
   ]
  },
  {
   "cell_type": "code",
   "execution_count": 16,
   "metadata": {},
   "outputs": [],
   "source": [
    "def drink_beer(state):\n",
    "    state['alertness'] -= np.random.uniform(0, 0.5)\n",
    "    state['hypertension'] += np.random.uniform(0, 0.3)\n",
    "    # source https://attorneydwi.com/b-a-c-per-drink/\n",
    "    state['intoxication'] += np.random.uniform(0.01, 0.03)"
   ]
  },
  {
   "cell_type": "code",
   "execution_count": 17,
   "metadata": {},
   "outputs": [
    {
     "data": {
      "text/plain": [
       "{'alertness': 1.3357968237749311,\n",
       " 'hypertension': 0.2704297273055302,\n",
       " 'intoxication': 0.024936641815109024,\n",
       " 'time_since_slept': 0,\n",
       " 'time_elapsed': 0,\n",
       " 'work_done': 0}"
      ]
     },
     "execution_count": 17,
     "metadata": {},
     "output_type": "execute_result"
    }
   ],
   "source": [
    "drink_beer(state)\n",
    "state"
   ]
  },
  {
   "cell_type": "markdown",
   "metadata": {},
   "source": [
    "**Fact 4.**  Hypertension is a risk factor for heart attacks"
   ]
  },
  {
   "cell_type": "code",
   "execution_count": 18,
   "metadata": {},
   "outputs": [],
   "source": [
    "def sigmoid(x):\n",
    "    return 1 / (1 + np.exp(-x))\n",
    "\n",
    "def heart_attack_risk(hypertension):\n",
    "    return sigmoid(hypertension - 3)"
   ]
  },
  {
   "cell_type": "code",
   "execution_count": 19,
   "metadata": {},
   "outputs": [
    {
     "data": {
      "text/plain": [
       "[<matplotlib.lines.Line2D at 0x7f3ce7bcb810>]"
      ]
     },
     "execution_count": 19,
     "metadata": {},
     "output_type": "execute_result"
    },
    {
     "data": {
      "image/png": "[encoded data removed]",
      "text/plain": [
       "<Figure size 432x288 with 1 Axes>"
      ]
     },
     "metadata": {
      "needs_background": "light"
     },
     "output_type": "display_data"
    }
   ],
   "source": [
    "import matplotlib.pyplot as plt\n",
    "%matplotlib inline\n",
    "\n",
    "xspace = np.linspace(0, 10, 100)\n",
    "plt.xlabel('hypertension')\n",
    "plt.ylabel('heart attack risk')\n",
    "plt.plot(xspace, heart_attack_risk(xspace))"
   ]
  },
  {
   "cell_type": "code",
   "execution_count": 20,
   "metadata": {},
   "outputs": [
    {
     "data": {
      "text/plain": [
       "False"
      ]
     },
     "execution_count": 20,
     "metadata": {},
     "output_type": "execute_result"
    }
   ],
   "source": [
    "def heart_attack_occured(state):\n",
    "    return np.random.uniform(0, 1) < heart_attack_risk(state['hypertension'])\n",
    "heart_attack_occured(state)"
   ]
  },
  {
   "cell_type": "markdown",
   "metadata": {},
   "source": [
    "**Fact 5.** Hypertension and intoxication decay exponentially over time, with a half-life of around 12 hours (24 half-hours)\n",
    "\n",
    "**Fact 6.** Alertness decays if you haven't slept for a long time"
   ]
  },
  {
   "cell_type": "code",
   "execution_count": 21,
   "metadata": {},
   "outputs": [],
   "source": [
    "def alertness_decay(time_since_slept):\n",
    "    return sigmoid((time_since_slept - 40) / 10)"
   ]
  },
  {
   "cell_type": "code",
   "execution_count": 22,
   "metadata": {},
   "outputs": [
    {
     "data": {
      "text/plain": [
       "[<matplotlib.lines.Line2D at 0x7f3ce5819890>]"
      ]
     },
     "execution_count": 22,
     "metadata": {},
     "output_type": "execute_result"
    },
    {
     "data": {
      "image/png": "[encoded data removed]",
      "text/plain": [
       "<Figure size 432x288 with 1 Axes>"
      ]
     },
     "metadata": {
      "needs_background": "light"
     },
     "output_type": "display_data"
    }
   ],
   "source": [
    "xspace = np.linspace(0, 100, 100)\n",
    "plt.xlabel('halfhours since slept')\n",
    "plt.ylabel('alertness decay')\n",
    "plt.plot(xspace, alertness_decay(xspace))"
   ]
  },
  {
   "cell_type": "code",
   "execution_count": 23,
   "metadata": {},
   "outputs": [
    {
     "data": {
      "text/plain": [
       "0.48141722191172337"
      ]
     },
     "execution_count": 23,
     "metadata": {},
     "output_type": "execute_result"
    }
   ],
   "source": [
    "decay_rate = 0.97\n",
    "half_life = decay_rate ** 24\n",
    "half_life"
   ]
  },
  {
   "cell_type": "code",
   "execution_count": 24,
   "metadata": {},
   "outputs": [],
   "source": [
    "def half_hour_passed(state):\n",
    "    state['alertness'] -= alertness_decay(state['time_since_slept'])\n",
    "    state['hypertension'] = decay_rate * state['hypertension']\n",
    "    state['intoxication'] = decay_rate * state['intoxication']\n",
    "    state['time_since_slept'] += 1\n",
    "    state['time_elapsed'] += 1"
   ]
  },
  {
   "cell_type": "code",
   "execution_count": 25,
   "metadata": {},
   "outputs": [
    {
     "data": {
      "text/plain": [
       "{'alertness': 1.3178106138128396,\n",
       " 'hypertension': 0.2623168354863643,\n",
       " 'intoxication': 0.02418854256065575,\n",
       " 'time_since_slept': 1,\n",
       " 'time_elapsed': 1,\n",
       " 'work_done': 0}"
      ]
     },
     "execution_count": 25,
     "metadata": {},
     "output_type": "execute_result"
    }
   ],
   "source": [
    "half_hour_passed(state)\n",
    "state"
   ]
  },
  {
   "cell_type": "markdown",
   "metadata": {},
   "source": [
    "**Fact 7**. In order to work productively, you have to be alert, but not so alert that crippling anxiety hits"
   ]
  },
  {
   "cell_type": "code",
   "execution_count": 26,
   "metadata": {},
   "outputs": [],
   "source": [
    "def crippling_anxiety(alertness):\n",
    "    return sigmoid(alertness - 3)"
   ]
  },
  {
   "cell_type": "code",
   "execution_count": 27,
   "metadata": {},
   "outputs": [
    {
     "data": {
      "text/plain": [
       "[<matplotlib.lines.Line2D at 0x7f3ce5789550>]"
      ]
     },
     "execution_count": 27,
     "metadata": {},
     "output_type": "execute_result"
    },
    {
     "data": {
      "image/png": "[encoded data removed]",
      "text/plain": [
       "<Figure size 432x288 with 1 Axes>"
      ]
     },
     "metadata": {
      "needs_background": "light"
     },
     "output_type": "display_data"
    }
   ],
   "source": [
    "xspace = np.linspace(0, 10, 100)\n",
    "plt.xlabel('alertness')\n",
    "plt.ylabel('crippling anxiety')\n",
    "plt.plot(xspace, crippling_anxiety(xspace))"
   ]
  },
  {
   "cell_type": "markdown",
   "metadata": {},
   "source": [
    "**Fiction 8**. Relationship between intoxication level and productivity is modelled by the [Ballmer function](https://xkcd.com/323/):"
   ]
  },
  {
   "cell_type": "markdown",
   "metadata": {},
   "source": [
    "![Ballmer function](https://imgs.xkcd.com/comics/ballmer_peak.png)"
   ]
  },
  {
   "cell_type": "code",
   "execution_count": 28,
   "metadata": {},
   "outputs": [],
   "source": [
    "def gaussian(x, mu, sig):\n",
    "    return np.exp(-np.power(x - mu, 2.) / (2 * np.power(sig, 2.)))\n",
    "\n",
    "def ballmer_function(intoxication):\n",
    "    return sigmoid((0.05 - intoxication) * 50) + 2 * gaussian(intoxication, 0.135, 0.005)"
   ]
  },
  {
   "cell_type": "code",
   "execution_count": 29,
   "metadata": {},
   "outputs": [
    {
     "data": {
      "text/plain": [
       "[<matplotlib.lines.Line2D at 0x7f3ce5767f10>]"
      ]
     },
     "execution_count": 29,
     "metadata": {},
     "output_type": "execute_result"
    },
    {
     "data": {
      "image/png": "[encoded data removed]",
      "text/plain": [
       "<Figure size 432x288 with 1 Axes>"
      ]
     },
     "metadata": {
      "needs_background": "light"
     },
     "output_type": "display_data"
    }
   ],
   "source": [
    "xspace = np.linspace(0, 0.26, 1000)\n",
    "plt.xlabel('blood alcohol content')\n",
    "plt.ylabel('programming skill')\n",
    "plt.plot(xspace, ballmer_function(xspace))"
   ]
  },
  {
   "cell_type": "code",
   "execution_count": 30,
   "metadata": {},
   "outputs": [],
   "source": [
    "def productivity(state):\n",
    "    p = 1\n",
    "    p *= state['alertness']\n",
    "    p *= 1 - crippling_anxiety(state['alertness'])\n",
    "    p *= ballmer_function(state['intoxication'])\n",
    "    return p"
   ]
  },
  {
   "cell_type": "code",
   "execution_count": 31,
   "metadata": {},
   "outputs": [
    {
     "data": {
      "text/plain": [
       "{'alertness': 1.3178106138128396,\n",
       " 'hypertension': 0.2623168354863643,\n",
       " 'intoxication': 0.02418854256065575,\n",
       " 'time_since_slept': 1,\n",
       " 'time_elapsed': 1,\n",
       " 'work_done': 0}"
      ]
     },
     "execution_count": 31,
     "metadata": {},
     "output_type": "execute_result"
    }
   ],
   "source": [
    "state"
   ]
  },
  {
   "cell_type": "code",
   "execution_count": 32,
   "metadata": {},
   "outputs": [
    {
     "data": {
      "text/plain": [
       "0.8714287926908565"
      ]
     },
     "execution_count": 32,
     "metadata": {},
     "output_type": "execute_result"
    }
   ],
   "source": [
    "productivity(state)"
   ]
  },
  {
   "cell_type": "code",
   "execution_count": 33,
   "metadata": {},
   "outputs": [],
   "source": [
    "def work(state):\n",
    "    state['work_done'] += productivity(state)\n",
    "    half_hour_passed(state)"
   ]
  },
  {
   "cell_type": "code",
   "execution_count": 34,
   "metadata": {},
   "outputs": [
    {
     "data": {
      "text/plain": [
       "{'alertness': 1.2979703080787621,\n",
       " 'hypertension': 0.25444733042177337,\n",
       " 'intoxication': 0.02346288628383608,\n",
       " 'time_since_slept': 2,\n",
       " 'time_elapsed': 2,\n",
       " 'work_done': 0.8714287926908565}"
      ]
     },
     "execution_count": 34,
     "metadata": {},
     "output_type": "execute_result"
    }
   ],
   "source": [
    "work(state)\n",
    "state"
   ]
  },
  {
   "cell_type": "markdown",
   "metadata": {},
   "source": [
    "Hopefully, the powers of Reinforcement Learning will help us improve this state!"
   ]
  },
  {
   "cell_type": "markdown",
   "metadata": {},
   "source": [
    "## Writing the environment class\n",
    "\n",
    "To write own OpenAI gym environment, you have to:\n",
    "- Create a class that inherits from `gym.Env`\n",
    "- Make sure that it has `action_space` and `observation_space` attributes defined\n",
    "- Make sure it has `reset()`, `step()`, `close()` and `render()` functions defined. See our exploration of MountainCar above for an intuition on how this functions are supposed to work \n",
    "\n",
    "Let's do that, shall we?"
   ]
  },
  {
   "cell_type": "markdown",
   "metadata": {},
   "source": [
    "First, we need to decide what the action and observation spaces of HeartPole are going to look like.\n",
    "\n",
    "Every half an hour of working you stop and do one of the following:\n",
    "\n",
    "1. Nothing\n",
    "2. Drink coffee\n",
    "3. Drink beer\n",
    "4. Go to sleep\n",
    "\n",
    "If you've chosen 1-3, you immediately go back to work, if you've chosen sleep, you sleep for 16 half-hours and go back to work"
   ]
  },
  {
   "cell_type": "code",
   "execution_count": 35,
   "metadata": {},
   "outputs": [],
   "source": [
    "def do_nothing(state):\n",
    "    pass\n",
    "\n",
    "def sleep(state):\n",
    "    \"\"\"Have 16 half-hours of healthy sleep\"\"\"\n",
    "    for hh in range(16):\n",
    "        half_hour_passed(state)\n",
    "    wakeup(state)\n",
    "\n",
    "actions = [do_nothing, drink_coffee, drink_beer, sleep]"
   ]
  },
  {
   "cell_type": "markdown",
   "metadata": {},
   "source": [
    "So, it is a 4-way discrete action space"
   ]
  },
  {
   "cell_type": "code",
   "execution_count": 36,
   "metadata": {},
   "outputs": [],
   "source": [
    "heartpole_action_space = gym.spaces.Discrete(len(actions))"
   ]
  },
  {
   "cell_type": "markdown",
   "metadata": {},
   "source": [
    "As for the observations, we observe the state of the patient, which is the following:"
   ]
  },
  {
   "cell_type": "code",
   "execution_count": 37,
   "metadata": {},
   "outputs": [
    {
     "data": {
      "text/plain": [
       "{'alertness': 1.2979703080787621,\n",
       " 'hypertension': 0.25444733042177337,\n",
       " 'intoxication': 0.02346288628383608,\n",
       " 'time_since_slept': 2,\n",
       " 'time_elapsed': 2,\n",
       " 'work_done': 0.8714287926908565}"
      ]
     },
     "execution_count": 37,
     "metadata": {},
     "output_type": "execute_result"
    }
   ],
   "source": [
    "state"
   ]
  },
  {
   "cell_type": "markdown",
   "metadata": {},
   "source": [
    "So, it's a `Box` of shape `(6,)`"
   ]
  },
  {
   "cell_type": "code",
   "execution_count": 38,
   "metadata": {},
   "outputs": [],
   "source": [
    "observations = ['alertness', 'hypertension', 'intoxication',\n",
    "                    'time_since_slept', 'time_elapsed', 'work_done']\n",
    "\n",
    "def make_heartpole_obs_space():\n",
    "    lower_obs_bound = {\n",
    "        'alertness': - np.inf,\n",
    "        'hypertension': 0,\n",
    "        'intoxication': 0,\n",
    "        'time_since_slept': 0,\n",
    "        'time_elapsed': 0,\n",
    "        'work_done': - np.inf\n",
    "    }\n",
    "    higher_obs_bound = {\n",
    "        'alertness': np.inf,\n",
    "        'hypertension': np.inf,\n",
    "        'intoxication': np.inf,\n",
    "        'time_since_slept': np.inf,\n",
    "        'time_elapsed': np.inf,\n",
    "        'work_done': np.inf\n",
    "    }\n",
    "\n",
    "    low = np.array([lower_obs_bound[o] for o in observations])\n",
    "    high = np.array([higher_obs_bound[o] for o in observations])\n",
    "    shape = (len(observations),)\n",
    "    return gym.spaces.Box(low,high,shape)"
   ]
  },
  {
   "cell_type": "markdown",
   "metadata": {},
   "source": [
    "Aaaaaaaaaaand, *voila!*"
   ]
  },
  {
   "cell_type": "code",
   "execution_count": 39,
   "metadata": {},
   "outputs": [],
   "source": [
    "class HeartPole(gym.Env):\n",
    "    def __init__(self):\n",
    "        self.actions = actions\n",
    "        self.observations = observations\n",
    "        self.action_space = heartpole_action_space\n",
    "        self.observation_space = make_heartpole_obs_space()\n",
    "        \n",
    "    def reset(self):\n",
    "        self.state = {\n",
    "            'alertness': 0,\n",
    "            'hypertension': 0,\n",
    "            'intoxication': 0,\n",
    "            'time_since_slept': 0,\n",
    "            'time_elapsed': 0,\n",
    "            'work_done': 0\n",
    "        }\n",
    "        \n",
    "        wakeup(self.state)\n",
    "        \n",
    "    def step(self, action):\n",
    "        if self.state['time_elapsed'] == 0:\n",
    "            old_score = 0\n",
    "        else:\n",
    "            old_score = self.state['work_done'] / self.state['time_elapsed']\n",
    "        \n",
    "        # Do selected action\n",
    "        self.actions[action](self.state)\n",
    "        \n",
    "        # Do work\n",
    "        work(self.state)\n",
    "        \n",
    "        new_score = self.state['work_done'] / self.state['time_elapsed']\n",
    "        \n",
    "        reward = new_score - old_score\n",
    "        \n",
    "        if heart_attack_occured(self.state):\n",
    "            # We would like to avoid this\n",
    "            reward -= 100\n",
    "        return np.array([self.state[o] for o in self.observations]), reward, False, {}\n",
    "    \n",
    "    def close(self):\n",
    "        pass\n",
    "        \n",
    "    def render(self):\n",
    "        print(self.state)"
   ]
  },
  {
   "cell_type": "markdown",
   "metadata": {},
   "source": [
    "And that's it! Let's do what we did with MountainCar and test this Env with a random agent"
   ]
  },
  {
   "cell_type": "code",
   "execution_count": 40,
   "metadata": {},
   "outputs": [
    {
     "name": "stderr",
     "output_type": "stream",
     "text": [
      "/home/vadim0x60/.pyenv/versions/3.7.4/lib/python3.7/site-packages/gym/logger.py:30: UserWarning: \u001b[33mWARN: Box bound precision lowered by casting to float32\u001b[0m\n",
      "  warnings.warn(colorize('%s: %s'%('WARN', msg % args), 'yellow'))\n"
     ]
    }
   ],
   "source": [
    "heartpole = HeartPole()"
   ]
  },
  {
   "cell_type": "code",
   "execution_count": 41,
   "metadata": {},
   "outputs": [
    {
     "name": "stdout",
     "output_type": "stream",
     "text": [
      "{'alertness': 1.0277073898345266, 'hypertension': 0, 'intoxication': 0, 'time_since_slept': 0, 'time_elapsed': 0, 'work_done': 0}\n",
      "{'alertness': 1.009721179872435, 'hypertension': 0.0, 'intoxication': 0.0, 'time_since_slept': 1, 'time_elapsed': 1, 'work_done': 0.8337425251925517}\n",
      "{'alertness': 0.9898808741383576, 'hypertension': 0.0, 'intoxication': 0.0, 'time_since_slept': 2, 'time_elapsed': 2, 'work_done': 1.6546808630871244}\n",
      "{'alertness': 0.4962308458375594, 'hypertension': 0.018973183976974176, 'intoxication': 0.02174307996234459, 'time_since_slept': 3, 'time_elapsed': 3, 'work_done': 2.0366556191322127}\n",
      "{'alertness': 0.8652102128067252, 'hypertension': 0.2985640256225893, 'intoxication': 0.021090787563474253, 'time_since_slept': 4, 'time_elapsed': 4, 'work_done': 2.6745836179373415}\n",
      "{'alertness': 0.8386132192298593, 'hypertension': 0.2896071048539116, 'intoxication': 0.020458063936570025, 'time_since_slept': 5, 'time_elapsed': 5, 'work_done': 3.3007418469986156}\n"
     ]
    }
   ],
   "source": [
    "observation = heartpole.reset()\n",
    "heartpole.render()\n",
    "\n",
    "for step in range(5):\n",
    "    observation, reward, done, _ = heartpole.step(heartpole.action_space.sample())\n",
    "    heartpole.render()"
   ]
  },
  {
   "cell_type": "markdown",
   "metadata": {},
   "source": [
    "## Registering the environment\n",
    "\n",
    "The only difference left between \"official\" gym environments and our `HeartPole` is that bundled environemnts have an id string like `CartPole-v0` and can be created with `gym.make`. If you insist, this too can be rectified. For that you need to put your environment into a Python file and specify the entry point in the format of `module:Class`."
   ]
  },
  {
   "cell_type": "code",
   "execution_count": 42,
   "metadata": {},
   "outputs": [],
   "source": [
    "# Making it official\n",
    "gym.register('HeartPole-v0', entry_point='heartpole:HeartPole')\n",
    "heartpole = gym.make('HeartPole-v0')"
   ]
  },
  {
   "cell_type": "code",
   "execution_count": 43,
   "metadata": {},
   "outputs": [
    {
     "name": "stdout",
     "output_type": "stream",
     "text": [
      "{'alertness': 1.2534994720124755, 'hypertension': 0, 'intoxication': 0, 'time_since_slept': 0, 'time_elapsed': 0, 'work_done': 0}\n",
      "{'alertness': 0.8268060473205956, 'hypertension': 0.0, 'intoxication': 0.0, 'time_since_slept': 1, 'time_elapsed': 17, 'work_done': 0.6996347934159848}\n",
      "{'alertness': 0.9417676407015778, 'hypertension': 0.0, 'intoxication': 0.0, 'time_since_slept': 1, 'time_elapsed': 34, 'work_done': 1.4845474075329952}\n",
      "{'alertness': 0.9219273349675003, 'hypertension': 0.0, 'intoxication': 0.0, 'time_since_slept': 2, 'time_elapsed': 35, 'work_done': 2.256333088515382}\n",
      "{'alertness': 1.111429259906348, 'hypertension': 0.0, 'intoxication': 0.0, 'time_since_slept': 1, 'time_elapsed': 52, 'work_done': 3.1607608880612896}\n",
      "{'alertness': 0.7570032355876464, 'hypertension': 0.0, 'intoxication': 0.0, 'time_since_slept': 1, 'time_elapsed': 69, 'work_done': 3.807112257887215}\n"
     ]
    }
   ],
   "source": [
    "observation = heartpole.reset()\n",
    "heartpole.render()\n",
    "\n",
    "for step in range(5):\n",
    "    observation, reward, done, _ = heartpole.step(heartpole.action_space.sample())\n",
    "    heartpole.render()"
   ]
  },
  {
   "cell_type": "markdown",
   "metadata": {},
   "source": [
    "## Testing the environment"
   ]
  },
  {
   "cell_type": "code",
   "execution_count": null,
   "metadata": {},
   "outputs": [],
   "source": []
  },
  {
   "cell_type": "markdown",
   "metadata": {},
   "source": [
    "## Homework\n",
    "\n",
    "Make *HeartPole-v1*! Add ~~cannabis~~ some new actions that can modify your health and productivity! "
   ]
  },
  {
   "cell_type": "code",
   "execution_count": null,
   "metadata": {},
   "outputs": [],
   "source": []
  }
 ],
 "metadata": {
  "kernelspec": {
   "display_name": "Python 3",
   "language": "python",
   "name": "python3"
  },
  "language_info": {
   "codemirror_mode": {
    "name": "ipython",
    "version": 3
   },
   "file_extension": ".py",
   "mimetype": "text/x-python",
   "name": "python",
   "nbconvert_exporter": "python",
   "pygments_lexer": "ipython3",
   "version": "3.7.4"
  }
 },
 "nbformat": 4,
 "nbformat_minor": 2
}
